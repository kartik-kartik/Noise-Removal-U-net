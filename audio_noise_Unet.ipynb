{
  "nbformat": 4,
  "nbformat_minor": 0,
  "metadata": {
    "colab": {
      "name": "audio_noise_Unet.ipynb",
      "provenance": [],
      "mount_file_id": "1PPItnY99OXfTpT5tehTF09OZllIFDFek",
      "authorship_tag": "ABX9TyMig7DKiiYdgWH2ibAkpSg5",
      "include_colab_link": true
    },
    "kernelspec": {
      "name": "python3",
      "display_name": "Python 3"
    },
    "accelerator": "GPU"
  },
  "cells": [
    {
      "cell_type": "markdown",
      "metadata": {
        "id": "view-in-github",
        "colab_type": "text"
      },
      "source": [
        "<a href=\"https://colab.research.google.com/github/kartik-kartik/Noise-Removal-U-net/blob/master/audio_noise_Unet.ipynb\" target=\"_parent\"><img src=\"https://colab.research.google.com/assets/colab-badge.svg\" alt=\"Open In Colab\"/></a>"
      ]
    },
    {
      "cell_type": "code",
      "metadata": {
        "id": "nQ0BiP_Ws765",
        "colab_type": "code",
        "colab": {
          "base_uri": "https://localhost:8080/",
          "height": 204
        },
        "outputId": "dd7b4f56-5ec8-4e55-fb87-1ab64288c5bf"
      },
      "source": [
        "#download sample audio signal files , no need to run these first 2 steps while running as these\n",
        "# signals will be download and upload to gdrive and mount it to colab so no need to download everytime we run this\n",
        "!wget http://groups.inf.ed.ac.uk/ami/download/temp/amiBuild-164536-Wed-Sep-2-2020.wget.sh"
      ],
      "execution_count": 1,
      "outputs": [
        {
          "output_type": "stream",
          "text": [
            "--2020-09-02 16:46:06--  http://groups.inf.ed.ac.uk/ami/download/temp/amiBuild-164536-Wed-Sep-2-2020.wget.sh\n",
            "Resolving groups.inf.ed.ac.uk (groups.inf.ed.ac.uk)... 129.215.202.26\n",
            "Connecting to groups.inf.ed.ac.uk (groups.inf.ed.ac.uk)|129.215.202.26|:80... connected.\n",
            "HTTP request sent, awaiting response... 200 OK\n",
            "Length: 6361 (6.2K) [application/x-sh]\n",
            "Saving to: ‘amiBuild-164536-Wed-Sep-2-2020.wget.sh’\n",
            "\n",
            "amiBuild-164536-Wed 100%[===================>]   6.21K  --.-KB/s    in 0s      \n",
            "\n",
            "2020-09-02 16:46:07 (501 MB/s) - ‘amiBuild-164536-Wed-Sep-2-2020.wget.sh’ saved [6361/6361]\n",
            "\n"
          ],
          "name": "stdout"
        }
      ]
    },
    {
      "cell_type": "code",
      "metadata": {
        "id": "MhGt-qqKtfpR",
        "colab_type": "code",
        "colab": {
          "base_uri": "https://localhost:8080/",
          "height": 1000
        },
        "outputId": "ebb1b047-80d9-4c32-e9e5-0f65d6149a5d"
      },
      "source": [
        "!sh amiBuild-164536-Wed-Sep-2-2020.wget.sh"
      ],
      "execution_count": 2,
      "outputs": [
        {
          "output_type": "stream",
          "text": [
            "--2020-09-02 16:46:20--  http://groups.inf.ed.ac.uk/ami/AMICorpusMirror//amicorpus/ES2008a/audio/ES2008a.Array1-01.wav\n",
            "Resolving groups.inf.ed.ac.uk (groups.inf.ed.ac.uk)... 129.215.202.26\n",
            "Connecting to groups.inf.ed.ac.uk (groups.inf.ed.ac.uk)|129.215.202.26|:80... connected.\n",
            "HTTP request sent, awaiting response... 200 OK\n",
            "Length: 33387564 (32M) [audio/x-wav]\n",
            "Saving to: ‘amicorpus/ES2008a/audio/ES2008a.Array1-01.wav’\n",
            "\n",
            "ES2008a.Array1-01.w 100%[===================>]  31.84M  7.17MB/s    in 5.0s    \n",
            "\n",
            "2020-09-02 16:46:26 (6.38 MB/s) - ‘amicorpus/ES2008a/audio/ES2008a.Array1-01.wav’ saved [33387564/33387564]\n",
            "\n",
            "--2020-09-02 16:46:26--  http://groups.inf.ed.ac.uk/ami/AMICorpusMirror//amicorpus/ES2008a/audio/ES2008a.Array1-02.wav\n",
            "Resolving groups.inf.ed.ac.uk (groups.inf.ed.ac.uk)... 129.215.202.26\n",
            "Connecting to groups.inf.ed.ac.uk (groups.inf.ed.ac.uk)|129.215.202.26|:80... connected.\n",
            "HTTP request sent, awaiting response... 200 OK\n",
            "Length: 33387564 (32M) [audio/x-wav]\n",
            "Saving to: ‘amicorpus/ES2008a/audio/ES2008a.Array1-02.wav’\n",
            "\n",
            "ES2008a.Array1-02.w 100%[===================>]  31.84M  7.20MB/s    in 5.2s    \n",
            "\n",
            "2020-09-02 16:46:31 (6.17 MB/s) - ‘amicorpus/ES2008a/audio/ES2008a.Array1-02.wav’ saved [33387564/33387564]\n",
            "\n",
            "--2020-09-02 16:46:31--  http://groups.inf.ed.ac.uk/ami/AMICorpusMirror//amicorpus/ES2008a/audio/ES2008a.Array1-03.wav\n",
            "Resolving groups.inf.ed.ac.uk (groups.inf.ed.ac.uk)... 129.215.202.26\n",
            "Connecting to groups.inf.ed.ac.uk (groups.inf.ed.ac.uk)|129.215.202.26|:80... connected.\n",
            "HTTP request sent, awaiting response... 200 OK\n",
            "Length: 33387564 (32M) [audio/x-wav]\n",
            "Saving to: ‘amicorpus/ES2008a/audio/ES2008a.Array1-03.wav’\n",
            "\n",
            "ES2008a.Array1-03.w 100%[===================>]  31.84M  7.24MB/s    in 4.9s    \n",
            "\n",
            "2020-09-02 16:46:37 (6.49 MB/s) - ‘amicorpus/ES2008a/audio/ES2008a.Array1-03.wav’ saved [33387564/33387564]\n",
            "\n",
            "--2020-09-02 16:46:37--  http://groups.inf.ed.ac.uk/ami/AMICorpusMirror//amicorpus/ES2008a/audio/ES2008a.Array1-04.wav\n",
            "Resolving groups.inf.ed.ac.uk (groups.inf.ed.ac.uk)... 129.215.202.26\n",
            "Connecting to groups.inf.ed.ac.uk (groups.inf.ed.ac.uk)|129.215.202.26|:80... connected.\n",
            "HTTP request sent, awaiting response... 200 OK\n",
            "Length: 33387564 (32M) [audio/x-wav]\n",
            "Saving to: ‘amicorpus/ES2008a/audio/ES2008a.Array1-04.wav’\n",
            "\n",
            "ES2008a.Array1-04.w 100%[===================>]  31.84M  6.89MB/s    in 5.1s    \n",
            "\n",
            "2020-09-02 16:46:42 (6.25 MB/s) - ‘amicorpus/ES2008a/audio/ES2008a.Array1-04.wav’ saved [33387564/33387564]\n",
            "\n",
            "--2020-09-02 16:46:42--  http://groups.inf.ed.ac.uk/ami/AMICorpusMirror//amicorpus/ES2008a/audio/ES2008a.Array1-05.wav\n",
            "Resolving groups.inf.ed.ac.uk (groups.inf.ed.ac.uk)... 129.215.202.26\n",
            "Connecting to groups.inf.ed.ac.uk (groups.inf.ed.ac.uk)|129.215.202.26|:80... connected.\n",
            "HTTP request sent, awaiting response... 200 OK\n",
            "Length: 33387564 (32M) [audio/x-wav]\n",
            "Saving to: ‘amicorpus/ES2008a/audio/ES2008a.Array1-05.wav’\n",
            "\n",
            "ES2008a.Array1-05.w 100%[===================>]  31.84M  7.21MB/s    in 5.0s    \n",
            "\n",
            "2020-09-02 16:46:48 (6.38 MB/s) - ‘amicorpus/ES2008a/audio/ES2008a.Array1-05.wav’ saved [33387564/33387564]\n",
            "\n",
            "--2020-09-02 16:46:48--  http://groups.inf.ed.ac.uk/ami/AMICorpusMirror//amicorpus/ES2008a/audio/ES2008a.Array1-06.wav\n",
            "Resolving groups.inf.ed.ac.uk (groups.inf.ed.ac.uk)... 129.215.202.26\n",
            "Connecting to groups.inf.ed.ac.uk (groups.inf.ed.ac.uk)|129.215.202.26|:80... connected.\n",
            "HTTP request sent, awaiting response... 200 OK\n",
            "Length: 33387564 (32M) [audio/x-wav]\n",
            "Saving to: ‘amicorpus/ES2008a/audio/ES2008a.Array1-06.wav’\n",
            "\n",
            "ES2008a.Array1-06.w 100%[===================>]  31.84M  4.54MB/s    in 8.0s    \n",
            "\n",
            "2020-09-02 16:46:56 (3.96 MB/s) - ‘amicorpus/ES2008a/audio/ES2008a.Array1-06.wav’ saved [33387564/33387564]\n",
            "\n",
            "--2020-09-02 16:46:56--  http://groups.inf.ed.ac.uk/ami/AMICorpusMirror//amicorpus/ES2008a/audio/ES2008a.Array1-07.wav\n",
            "Resolving groups.inf.ed.ac.uk (groups.inf.ed.ac.uk)... 129.215.202.26\n",
            "Connecting to groups.inf.ed.ac.uk (groups.inf.ed.ac.uk)|129.215.202.26|:80... connected.\n",
            "HTTP request sent, awaiting response... 200 OK\n",
            "Length: 33387564 (32M) [audio/x-wav]\n",
            "Saving to: ‘amicorpus/ES2008a/audio/ES2008a.Array1-07.wav’\n",
            "\n",
            "ES2008a.Array1-07.w 100%[===================>]  31.84M  3.99MB/s    in 9.0s    \n",
            "\n",
            "2020-09-02 16:47:06 (3.54 MB/s) - ‘amicorpus/ES2008a/audio/ES2008a.Array1-07.wav’ saved [33387564/33387564]\n",
            "\n",
            "--2020-09-02 16:47:06--  http://groups.inf.ed.ac.uk/ami/AMICorpusMirror//amicorpus/ES2008a/audio/ES2008a.Array1-08.wav\n",
            "Resolving groups.inf.ed.ac.uk (groups.inf.ed.ac.uk)... 129.215.202.26\n",
            "Connecting to groups.inf.ed.ac.uk (groups.inf.ed.ac.uk)|129.215.202.26|:80... connected.\n",
            "HTTP request sent, awaiting response... 200 OK\n",
            "Length: 33387564 (32M) [audio/x-wav]\n",
            "Saving to: ‘amicorpus/ES2008a/audio/ES2008a.Array1-08.wav’\n",
            "\n",
            "ES2008a.Array1-08.w 100%[===================>]  31.84M  4.51MB/s    in 8.0s    \n",
            "\n",
            "2020-09-02 16:47:14 (3.99 MB/s) - ‘amicorpus/ES2008a/audio/ES2008a.Array1-08.wav’ saved [33387564/33387564]\n",
            "\n",
            "--2020-09-02 16:47:14--  http://groups.inf.ed.ac.uk/ami/AMICorpusMirror//amicorpus/ES2008a/audio/ES2008a.Array2-01.wav\n",
            "Resolving groups.inf.ed.ac.uk (groups.inf.ed.ac.uk)... 129.215.202.26\n",
            "Connecting to groups.inf.ed.ac.uk (groups.inf.ed.ac.uk)|129.215.202.26|:80... connected.\n",
            "HTTP request sent, awaiting response... 200 OK\n",
            "Length: 33387564 (32M) [audio/x-wav]\n",
            "Saving to: ‘amicorpus/ES2008a/audio/ES2008a.Array2-01.wav’\n",
            "\n",
            "ES2008a.Array2-01.w 100%[===================>]  31.84M  4.03MB/s    in 9.0s    \n",
            "\n",
            "2020-09-02 16:47:23 (3.54 MB/s) - ‘amicorpus/ES2008a/audio/ES2008a.Array2-01.wav’ saved [33387564/33387564]\n",
            "\n",
            "--2020-09-02 16:47:23--  http://groups.inf.ed.ac.uk/ami/AMICorpusMirror//amicorpus/ES2008a/audio/ES2008a.Array2-02.wav\n",
            "Resolving groups.inf.ed.ac.uk (groups.inf.ed.ac.uk)... 129.215.202.26\n",
            "Connecting to groups.inf.ed.ac.uk (groups.inf.ed.ac.uk)|129.215.202.26|:80... connected.\n",
            "HTTP request sent, awaiting response... 200 OK\n",
            "Length: 33387564 (32M) [audio/x-wav]\n",
            "Saving to: ‘amicorpus/ES2008a/audio/ES2008a.Array2-02.wav’\n",
            "\n",
            "ES2008a.Array2-02.w 100%[===================>]  31.84M  4.38MB/s    in 8.1s    \n",
            "\n",
            "2020-09-02 16:47:32 (3.91 MB/s) - ‘amicorpus/ES2008a/audio/ES2008a.Array2-02.wav’ saved [33387564/33387564]\n",
            "\n",
            "--2020-09-02 16:47:32--  http://groups.inf.ed.ac.uk/ami/AMICorpusMirror//amicorpus/ES2008a/audio/ES2008a.Array2-03.wav\n",
            "Resolving groups.inf.ed.ac.uk (groups.inf.ed.ac.uk)... 129.215.202.26\n",
            "Connecting to groups.inf.ed.ac.uk (groups.inf.ed.ac.uk)|129.215.202.26|:80... connected.\n",
            "HTTP request sent, awaiting response... 200 OK\n",
            "Length: 33387564 (32M) [audio/x-wav]\n",
            "Saving to: ‘amicorpus/ES2008a/audio/ES2008a.Array2-03.wav’\n",
            "\n",
            "ES2008a.Array2-03.w 100%[===================>]  31.84M  4.17MB/s    in 8.3s    \n",
            "\n",
            "2020-09-02 16:47:41 (3.84 MB/s) - ‘amicorpus/ES2008a/audio/ES2008a.Array2-03.wav’ saved [33387564/33387564]\n",
            "\n",
            "--2020-09-02 16:47:41--  http://groups.inf.ed.ac.uk/ami/AMICorpusMirror//amicorpus/ES2008a/audio/ES2008a.Array2-04.wav\n",
            "Resolving groups.inf.ed.ac.uk (groups.inf.ed.ac.uk)... 129.215.202.26\n",
            "Connecting to groups.inf.ed.ac.uk (groups.inf.ed.ac.uk)|129.215.202.26|:80... connected.\n",
            "HTTP request sent, awaiting response... 200 OK\n",
            "Length: 33387564 (32M) [audio/x-wav]\n",
            "Saving to: ‘amicorpus/ES2008a/audio/ES2008a.Array2-04.wav’\n",
            "\n",
            "ES2008a.Array2-04.w 100%[===================>]  31.84M  4.73MB/s    in 7.3s    \n",
            "\n",
            "2020-09-02 16:47:48 (4.35 MB/s) - ‘amicorpus/ES2008a/audio/ES2008a.Array2-04.wav’ saved [33387564/33387564]\n",
            "\n",
            "--2020-09-02 16:47:48--  http://groups.inf.ed.ac.uk/ami/AMICorpusMirror//amicorpus/ES2008a/audio/ES2008a.Array2-05.wav\n",
            "Resolving groups.inf.ed.ac.uk (groups.inf.ed.ac.uk)... 129.215.202.26\n",
            "Connecting to groups.inf.ed.ac.uk (groups.inf.ed.ac.uk)|129.215.202.26|:80... connected.\n",
            "HTTP request sent, awaiting response... 200 OK\n",
            "Length: 33387564 (32M) [audio/x-wav]\n",
            "Saving to: ‘amicorpus/ES2008a/audio/ES2008a.Array2-05.wav’\n",
            "\n",
            "ES2008a.Array2-05.w 100%[===================>]  31.84M  4.36MB/s    in 8.0s    \n",
            "\n",
            "2020-09-02 16:47:57 (3.96 MB/s) - ‘amicorpus/ES2008a/audio/ES2008a.Array2-05.wav’ saved [33387564/33387564]\n",
            "\n",
            "--2020-09-02 16:47:57--  http://groups.inf.ed.ac.uk/ami/AMICorpusMirror//amicorpus/ES2008a/audio/ES2008a.Array2-06.wav\n",
            "Resolving groups.inf.ed.ac.uk (groups.inf.ed.ac.uk)... 129.215.202.26\n",
            "Connecting to groups.inf.ed.ac.uk (groups.inf.ed.ac.uk)|129.215.202.26|:80... connected.\n",
            "HTTP request sent, awaiting response... 200 OK\n",
            "Length: 33387564 (32M) [audio/x-wav]\n",
            "Saving to: ‘amicorpus/ES2008a/audio/ES2008a.Array2-06.wav’\n",
            "\n",
            "ES2008a.Array2-06.w 100%[===================>]  31.84M  4.66MB/s    in 7.6s    \n",
            "\n",
            "2020-09-02 16:48:05 (4.19 MB/s) - ‘amicorpus/ES2008a/audio/ES2008a.Array2-06.wav’ saved [33387564/33387564]\n",
            "\n",
            "--2020-09-02 16:48:05--  http://groups.inf.ed.ac.uk/ami/AMICorpusMirror//amicorpus/ES2008a/audio/ES2008a.Array2-07.wav\n",
            "Resolving groups.inf.ed.ac.uk (groups.inf.ed.ac.uk)... 129.215.202.26\n",
            "Connecting to groups.inf.ed.ac.uk (groups.inf.ed.ac.uk)|129.215.202.26|:80... connected.\n",
            "HTTP request sent, awaiting response... 200 OK\n",
            "Length: 33387564 (32M) [audio/x-wav]\n",
            "Saving to: ‘amicorpus/ES2008a/audio/ES2008a.Array2-07.wav’\n",
            "\n",
            "ES2008a.Array2-07.w 100%[===================>]  31.84M  4.57MB/s    in 7.8s    \n",
            "\n",
            "2020-09-02 16:48:13 (4.11 MB/s) - ‘amicorpus/ES2008a/audio/ES2008a.Array2-07.wav’ saved [33387564/33387564]\n",
            "\n",
            "--2020-09-02 16:48:13--  http://groups.inf.ed.ac.uk/ami/AMICorpusMirror//amicorpus/ES2008a/audio/ES2008a.Array2-08.wav\n",
            "Resolving groups.inf.ed.ac.uk (groups.inf.ed.ac.uk)... 129.215.202.26\n",
            "Connecting to groups.inf.ed.ac.uk (groups.inf.ed.ac.uk)|129.215.202.26|:80... connected.\n",
            "HTTP request sent, awaiting response... 200 OK\n",
            "Length: 33387564 (32M) [audio/x-wav]\n",
            "Saving to: ‘amicorpus/ES2008a/audio/ES2008a.Array2-08.wav’\n",
            "\n",
            "ES2008a.Array2-08.w 100%[===================>]  31.84M  4.52MB/s    in 7.9s    \n",
            "\n",
            "2020-09-02 16:48:21 (4.03 MB/s) - ‘amicorpus/ES2008a/audio/ES2008a.Array2-08.wav’ saved [33387564/33387564]\n",
            "\n",
            "--2020-09-02 16:48:21--  http://groups.inf.ed.ac.uk/ami/AMICorpusMirror//amicorpus/ES2008b/audio/ES2008b.Array1-01.wav\n",
            "Resolving groups.inf.ed.ac.uk (groups.inf.ed.ac.uk)... 129.215.202.26\n",
            "Connecting to groups.inf.ed.ac.uk (groups.inf.ed.ac.uk)|129.215.202.26|:80... connected.\n",
            "HTTP request sent, awaiting response... 200 OK\n",
            "Length: 71413122 (68M) [audio/x-wav]\n",
            "Saving to: ‘amicorpus/ES2008b/audio/ES2008b.Array1-01.wav’\n",
            "\n",
            "ES2008b.Array1-01.w 100%[===================>]  68.10M  7.94MB/s    in 13s     \n",
            "\n",
            "2020-09-02 16:48:34 (5.45 MB/s) - ‘amicorpus/ES2008b/audio/ES2008b.Array1-01.wav’ saved [71413122/71413122]\n",
            "\n",
            "--2020-09-02 16:48:34--  http://groups.inf.ed.ac.uk/ami/AMICorpusMirror//amicorpus/ES2008b/audio/ES2008b.Array1-02.wav\n",
            "Resolving groups.inf.ed.ac.uk (groups.inf.ed.ac.uk)... 129.215.202.26\n",
            "Connecting to groups.inf.ed.ac.uk (groups.inf.ed.ac.uk)|129.215.202.26|:80... connected.\n",
            "HTTP request sent, awaiting response... 200 OK\n",
            "Length: 71413122 (68M) [audio/x-wav]\n",
            "Saving to: ‘amicorpus/ES2008b/audio/ES2008b.Array1-02.wav’\n",
            "\n",
            "ES2008b.Array1-02.w 100%[===================>]  68.10M  7.11MB/s    in 11s     \n",
            "\n",
            "2020-09-02 16:48:45 (6.05 MB/s) - ‘amicorpus/ES2008b/audio/ES2008b.Array1-02.wav’ saved [71413122/71413122]\n",
            "\n",
            "--2020-09-02 16:48:45--  http://groups.inf.ed.ac.uk/ami/AMICorpusMirror//amicorpus/ES2008b/audio/ES2008b.Array1-03.wav\n",
            "Resolving groups.inf.ed.ac.uk (groups.inf.ed.ac.uk)... 129.215.202.26\n",
            "Connecting to groups.inf.ed.ac.uk (groups.inf.ed.ac.uk)|129.215.202.26|:80... connected.\n",
            "HTTP request sent, awaiting response... 200 OK\n",
            "Length: 71413122 (68M) [audio/x-wav]\n",
            "Saving to: ‘amicorpus/ES2008b/audio/ES2008b.Array1-03.wav’\n",
            "\n",
            "ES2008b.Array1-03.w 100%[===================>]  68.10M  7.77MB/s    in 11s     \n",
            "\n",
            "2020-09-02 16:48:56 (6.29 MB/s) - ‘amicorpus/ES2008b/audio/ES2008b.Array1-03.wav’ saved [71413122/71413122]\n",
            "\n",
            "--2020-09-02 16:48:56--  http://groups.inf.ed.ac.uk/ami/AMICorpusMirror//amicorpus/ES2008b/audio/ES2008b.Array1-04.wav\n",
            "Resolving groups.inf.ed.ac.uk (groups.inf.ed.ac.uk)... 129.215.202.26\n",
            "Connecting to groups.inf.ed.ac.uk (groups.inf.ed.ac.uk)|129.215.202.26|:80... connected.\n",
            "HTTP request sent, awaiting response... 200 OK\n",
            "Length: 71413122 (68M) [audio/x-wav]\n",
            "Saving to: ‘amicorpus/ES2008b/audio/ES2008b.Array1-04.wav’\n",
            "\n",
            "ES2008b.Array1-04.w 100%[===================>]  68.10M  7.94MB/s    in 11s     \n",
            "\n",
            "2020-09-02 16:49:08 (6.26 MB/s) - ‘amicorpus/ES2008b/audio/ES2008b.Array1-04.wav’ saved [71413122/71413122]\n",
            "\n",
            "--2020-09-02 16:49:08--  http://groups.inf.ed.ac.uk/ami/AMICorpusMirror//amicorpus/ES2008b/audio/ES2008b.Array1-05.wav\n",
            "Resolving groups.inf.ed.ac.uk (groups.inf.ed.ac.uk)... 129.215.202.26\n",
            "Connecting to groups.inf.ed.ac.uk (groups.inf.ed.ac.uk)|129.215.202.26|:80... connected.\n",
            "HTTP request sent, awaiting response... 200 OK\n",
            "Length: 71413122 (68M) [audio/x-wav]\n",
            "Saving to: ‘amicorpus/ES2008b/audio/ES2008b.Array1-05.wav’\n",
            "\n",
            "ES2008b.Array1-05.w 100%[===================>]  68.10M  7.56MB/s    in 11s     \n",
            "\n",
            "2020-09-02 16:49:19 (6.01 MB/s) - ‘amicorpus/ES2008b/audio/ES2008b.Array1-05.wav’ saved [71413122/71413122]\n",
            "\n",
            "--2020-09-02 16:49:19--  http://groups.inf.ed.ac.uk/ami/AMICorpusMirror//amicorpus/ES2008b/audio/ES2008b.Array1-06.wav\n",
            "Resolving groups.inf.ed.ac.uk (groups.inf.ed.ac.uk)... 129.215.202.26\n",
            "Connecting to groups.inf.ed.ac.uk (groups.inf.ed.ac.uk)|129.215.202.26|:80... connected.\n",
            "HTTP request sent, awaiting response... 200 OK\n",
            "Length: 71413122 (68M) [audio/x-wav]\n",
            "Saving to: ‘amicorpus/ES2008b/audio/ES2008b.Array1-06.wav’\n",
            "\n",
            "ES2008b.Array1-06.w 100%[===================>]  68.10M  7.73MB/s    in 11s     \n",
            "\n",
            "2020-09-02 16:49:31 (6.08 MB/s) - ‘amicorpus/ES2008b/audio/ES2008b.Array1-06.wav’ saved [71413122/71413122]\n",
            "\n",
            "--2020-09-02 16:49:31--  http://groups.inf.ed.ac.uk/ami/AMICorpusMirror//amicorpus/ES2008b/audio/ES2008b.Array1-07.wav\n",
            "Resolving groups.inf.ed.ac.uk (groups.inf.ed.ac.uk)... 129.215.202.26\n",
            "Connecting to groups.inf.ed.ac.uk (groups.inf.ed.ac.uk)|129.215.202.26|:80... connected.\n",
            "HTTP request sent, awaiting response... 200 OK\n",
            "Length: 71413122 (68M) [audio/x-wav]\n",
            "Saving to: ‘amicorpus/ES2008b/audio/ES2008b.Array1-07.wav’\n",
            "\n",
            "ES2008b.Array1-07.w 100%[===================>]  68.10M  7.40MB/s    in 14s     \n",
            "\n",
            "2020-09-02 16:49:45 (4.97 MB/s) - ‘amicorpus/ES2008b/audio/ES2008b.Array1-07.wav’ saved [71413122/71413122]\n",
            "\n",
            "--2020-09-02 16:49:45--  http://groups.inf.ed.ac.uk/ami/AMICorpusMirror//amicorpus/ES2008b/audio/ES2008b.Array1-08.wav\n",
            "Resolving groups.inf.ed.ac.uk (groups.inf.ed.ac.uk)... 129.215.202.26\n",
            "Connecting to groups.inf.ed.ac.uk (groups.inf.ed.ac.uk)|129.215.202.26|:80... connected.\n",
            "HTTP request sent, awaiting response... 200 OK\n",
            "Length: 71413122 (68M) [audio/x-wav]\n",
            "Saving to: ‘amicorpus/ES2008b/audio/ES2008b.Array1-08.wav’\n",
            "\n",
            "ES2008b.Array1-08.w 100%[===================>]  68.10M  7.63MB/s    in 11s     \n",
            "\n",
            "2020-09-02 16:49:56 (6.41 MB/s) - ‘amicorpus/ES2008b/audio/ES2008b.Array1-08.wav’ saved [71413122/71413122]\n",
            "\n",
            "--2020-09-02 16:49:56--  http://groups.inf.ed.ac.uk/ami/AMICorpusMirror//amicorpus/ES2008b/audio/ES2008b.Array2-01.wav\n",
            "Resolving groups.inf.ed.ac.uk (groups.inf.ed.ac.uk)... 129.215.202.26\n",
            "Connecting to groups.inf.ed.ac.uk (groups.inf.ed.ac.uk)|129.215.202.26|:80... connected.\n",
            "HTTP request sent, awaiting response... 200 OK\n",
            "Length: 71413122 (68M) [audio/x-wav]\n",
            "Saving to: ‘amicorpus/ES2008b/audio/ES2008b.Array2-01.wav’\n",
            "\n",
            "ES2008b.Array2-01.w 100%[===================>]  68.10M  8.17MB/s    in 10s     \n",
            "\n",
            "2020-09-02 16:50:06 (6.78 MB/s) - ‘amicorpus/ES2008b/audio/ES2008b.Array2-01.wav’ saved [71413122/71413122]\n",
            "\n",
            "--2020-09-02 16:50:06--  http://groups.inf.ed.ac.uk/ami/AMICorpusMirror//amicorpus/ES2008b/audio/ES2008b.Array2-02.wav\n",
            "Resolving groups.inf.ed.ac.uk (groups.inf.ed.ac.uk)... 129.215.202.26\n",
            "Connecting to groups.inf.ed.ac.uk (groups.inf.ed.ac.uk)|129.215.202.26|:80... connected.\n",
            "HTTP request sent, awaiting response... 200 OK\n",
            "Length: 71413122 (68M) [audio/x-wav]\n",
            "Saving to: ‘amicorpus/ES2008b/audio/ES2008b.Array2-02.wav’\n",
            "\n",
            "ES2008b.Array2-02.w 100%[===================>]  68.10M  7.81MB/s    in 10s     \n",
            "\n",
            "2020-09-02 16:50:17 (6.69 MB/s) - ‘amicorpus/ES2008b/audio/ES2008b.Array2-02.wav’ saved [71413122/71413122]\n",
            "\n",
            "--2020-09-02 16:50:17--  http://groups.inf.ed.ac.uk/ami/AMICorpusMirror//amicorpus/ES2008b/audio/ES2008b.Array2-03.wav\n",
            "Resolving groups.inf.ed.ac.uk (groups.inf.ed.ac.uk)... 129.215.202.26\n",
            "Connecting to groups.inf.ed.ac.uk (groups.inf.ed.ac.uk)|129.215.202.26|:80... connected.\n",
            "HTTP request sent, awaiting response... 200 OK\n",
            "Length: 71413122 (68M) [audio/x-wav]\n",
            "Saving to: ‘amicorpus/ES2008b/audio/ES2008b.Array2-03.wav’\n",
            "\n",
            "ES2008b.Array2-03.w 100%[===================>]  68.10M  8.03MB/s    in 9.6s    \n",
            "\n",
            "2020-09-02 16:50:27 (7.12 MB/s) - ‘amicorpus/ES2008b/audio/ES2008b.Array2-03.wav’ saved [71413122/71413122]\n",
            "\n",
            "--2020-09-02 16:50:27--  http://groups.inf.ed.ac.uk/ami/AMICorpusMirror//amicorpus/ES2008b/audio/ES2008b.Array2-04.wav\n",
            "Resolving groups.inf.ed.ac.uk (groups.inf.ed.ac.uk)... 129.215.202.26\n",
            "Connecting to groups.inf.ed.ac.uk (groups.inf.ed.ac.uk)|129.215.202.26|:80... connected.\n",
            "HTTP request sent, awaiting response... 200 OK\n",
            "Length: 71413122 (68M) [audio/x-wav]\n",
            "Saving to: ‘amicorpus/ES2008b/audio/ES2008b.Array2-04.wav’\n",
            "\n",
            "ES2008b.Array2-04.w 100%[===================>]  68.10M  8.39MB/s    in 9.8s    \n",
            "\n",
            "2020-09-02 16:50:37 (6.93 MB/s) - ‘amicorpus/ES2008b/audio/ES2008b.Array2-04.wav’ saved [71413122/71413122]\n",
            "\n",
            "--2020-09-02 16:50:37--  http://groups.inf.ed.ac.uk/ami/AMICorpusMirror//amicorpus/ES2008b/audio/ES2008b.Array2-05.wav\n",
            "Resolving groups.inf.ed.ac.uk (groups.inf.ed.ac.uk)... 129.215.202.26\n",
            "Connecting to groups.inf.ed.ac.uk (groups.inf.ed.ac.uk)|129.215.202.26|:80... connected.\n",
            "HTTP request sent, awaiting response... 200 OK\n",
            "Length: 71413122 (68M) [audio/x-wav]\n",
            "Saving to: ‘amicorpus/ES2008b/audio/ES2008b.Array2-05.wav’\n",
            "\n",
            "ES2008b.Array2-05.w 100%[===================>]  68.10M  8.55MB/s    in 10s     \n",
            "\n",
            "2020-09-02 16:50:47 (6.64 MB/s) - ‘amicorpus/ES2008b/audio/ES2008b.Array2-05.wav’ saved [71413122/71413122]\n",
            "\n",
            "--2020-09-02 16:50:47--  http://groups.inf.ed.ac.uk/ami/AMICorpusMirror//amicorpus/ES2008b/audio/ES2008b.Array2-06.wav\n",
            "Resolving groups.inf.ed.ac.uk (groups.inf.ed.ac.uk)... 129.215.202.26\n",
            "Connecting to groups.inf.ed.ac.uk (groups.inf.ed.ac.uk)|129.215.202.26|:80... connected.\n",
            "HTTP request sent, awaiting response... 200 OK\n",
            "Length: 71413122 (68M) [audio/x-wav]\n",
            "Saving to: ‘amicorpus/ES2008b/audio/ES2008b.Array2-06.wav’\n",
            "\n",
            "ES2008b.Array2-06.w 100%[===================>]  68.10M  8.20MB/s    in 9.7s    \n",
            "\n",
            "2020-09-02 16:50:57 (7.05 MB/s) - ‘amicorpus/ES2008b/audio/ES2008b.Array2-06.wav’ saved [71413122/71413122]\n",
            "\n",
            "--2020-09-02 16:50:57--  http://groups.inf.ed.ac.uk/ami/AMICorpusMirror//amicorpus/ES2008b/audio/ES2008b.Array2-07.wav\n",
            "Resolving groups.inf.ed.ac.uk (groups.inf.ed.ac.uk)... 129.215.202.26\n",
            "Connecting to groups.inf.ed.ac.uk (groups.inf.ed.ac.uk)|129.215.202.26|:80... connected.\n",
            "HTTP request sent, awaiting response... 200 OK\n",
            "Length: 71413122 (68M) [audio/x-wav]\n",
            "Saving to: ‘amicorpus/ES2008b/audio/ES2008b.Array2-07.wav’\n",
            "\n",
            "ES2008b.Array2-07.w 100%[===================>]  68.10M  8.00MB/s    in 10s     \n",
            "\n",
            "2020-09-02 16:51:08 (6.83 MB/s) - ‘amicorpus/ES2008b/audio/ES2008b.Array2-07.wav’ saved [71413122/71413122]\n",
            "\n",
            "--2020-09-02 16:51:08--  http://groups.inf.ed.ac.uk/ami/AMICorpusMirror//amicorpus/ES2008b/audio/ES2008b.Array2-08.wav\n",
            "Resolving groups.inf.ed.ac.uk (groups.inf.ed.ac.uk)... 129.215.202.26\n",
            "Connecting to groups.inf.ed.ac.uk (groups.inf.ed.ac.uk)|129.215.202.26|:80... connected.\n",
            "HTTP request sent, awaiting response... 200 OK\n",
            "Length: 71413122 (68M) [audio/x-wav]\n",
            "Saving to: ‘amicorpus/ES2008b/audio/ES2008b.Array2-08.wav’\n",
            "\n",
            "ES2008b.Array2-08.w 100%[===================>]  68.10M  8.15MB/s    in 9.4s    \n",
            "\n",
            "2020-09-02 16:51:17 (7.27 MB/s) - ‘amicorpus/ES2008b/audio/ES2008b.Array2-08.wav’ saved [71413122/71413122]\n",
            "\n",
            "--2020-09-02 16:51:17--  http://groups.inf.ed.ac.uk/ami/AMICorpusMirror//amicorpus/ES2008c/audio/ES2008c.Array1-01.wav\n",
            "Resolving groups.inf.ed.ac.uk (groups.inf.ed.ac.uk)... 129.215.202.26\n",
            "Connecting to groups.inf.ed.ac.uk (groups.inf.ed.ac.uk)|129.215.202.26|:80... connected.\n",
            "HTTP request sent, awaiting response... 200 OK\n",
            "Length: 67283926 (64M) [audio/x-wav]\n",
            "Saving to: ‘amicorpus/ES2008c/audio/ES2008c.Array1-01.wav’\n",
            "\n",
            "ES2008c.Array1-01.w 100%[===================>]  64.17M  7.11MB/s    in 9.7s    \n",
            "\n",
            "2020-09-02 16:51:27 (6.62 MB/s) - ‘amicorpus/ES2008c/audio/ES2008c.Array1-01.wav’ saved [67283926/67283926]\n",
            "\n",
            "--2020-09-02 16:51:27--  http://groups.inf.ed.ac.uk/ami/AMICorpusMirror//amicorpus/ES2008c/audio/ES2008c.Array1-02.wav\n",
            "Resolving groups.inf.ed.ac.uk (groups.inf.ed.ac.uk)... 129.215.202.26\n",
            "Connecting to groups.inf.ed.ac.uk (groups.inf.ed.ac.uk)|129.215.202.26|:80... connected.\n",
            "HTTP request sent, awaiting response... 200 OK\n",
            "Length: 67283926 (64M) [audio/x-wav]\n",
            "Saving to: ‘amicorpus/ES2008c/audio/ES2008c.Array1-02.wav’\n",
            "\n",
            "ES2008c.Array1-02.w 100%[===================>]  64.17M  7.86MB/s    in 9.3s    \n",
            "\n",
            "2020-09-02 16:51:37 (6.93 MB/s) - ‘amicorpus/ES2008c/audio/ES2008c.Array1-02.wav’ saved [67283926/67283926]\n",
            "\n",
            "--2020-09-02 16:51:37--  http://groups.inf.ed.ac.uk/ami/AMICorpusMirror//amicorpus/ES2008c/audio/ES2008c.Array1-03.wav\n",
            "Resolving groups.inf.ed.ac.uk (groups.inf.ed.ac.uk)... 129.215.202.26\n",
            "Connecting to groups.inf.ed.ac.uk (groups.inf.ed.ac.uk)|129.215.202.26|:80... connected.\n",
            "HTTP request sent, awaiting response... 200 OK\n",
            "Length: 67283926 (64M) [audio/x-wav]\n",
            "Saving to: ‘amicorpus/ES2008c/audio/ES2008c.Array1-03.wav’\n",
            "\n",
            "ES2008c.Array1-03.w 100%[===================>]  64.17M  7.69MB/s    in 9.0s    \n",
            "\n",
            "2020-09-02 16:51:46 (7.13 MB/s) - ‘amicorpus/ES2008c/audio/ES2008c.Array1-03.wav’ saved [67283926/67283926]\n",
            "\n",
            "--2020-09-02 16:51:46--  http://groups.inf.ed.ac.uk/ami/AMICorpusMirror//amicorpus/ES2008c/audio/ES2008c.Array1-04.wav\n",
            "Resolving groups.inf.ed.ac.uk (groups.inf.ed.ac.uk)... 129.215.202.26\n",
            "Connecting to groups.inf.ed.ac.uk (groups.inf.ed.ac.uk)|129.215.202.26|:80... connected.\n",
            "HTTP request sent, awaiting response... 200 OK\n",
            "Length: 67283926 (64M) [audio/x-wav]\n",
            "Saving to: ‘amicorpus/ES2008c/audio/ES2008c.Array1-04.wav’\n",
            "\n",
            "ES2008c.Array1-04.w 100%[===================>]  64.17M  8.42MB/s    in 8.6s    \n",
            "\n",
            "2020-09-02 16:51:55 (7.50 MB/s) - ‘amicorpus/ES2008c/audio/ES2008c.Array1-04.wav’ saved [67283926/67283926]\n",
            "\n",
            "--2020-09-02 16:51:55--  http://groups.inf.ed.ac.uk/ami/AMICorpusMirror//amicorpus/ES2008c/audio/ES2008c.Array1-05.wav\n",
            "Resolving groups.inf.ed.ac.uk (groups.inf.ed.ac.uk)... 129.215.202.26\n",
            "Connecting to groups.inf.ed.ac.uk (groups.inf.ed.ac.uk)|129.215.202.26|:80... connected.\n",
            "HTTP request sent, awaiting response... 200 OK\n",
            "Length: 67283926 (64M) [audio/x-wav]\n",
            "Saving to: ‘amicorpus/ES2008c/audio/ES2008c.Array1-05.wav’\n",
            "\n",
            "ES2008c.Array1-05.w 100%[===================>]  64.17M  7.90MB/s    in 9.0s    \n",
            "\n",
            "2020-09-02 16:52:05 (7.10 MB/s) - ‘amicorpus/ES2008c/audio/ES2008c.Array1-05.wav’ saved [67283926/67283926]\n",
            "\n",
            "--2020-09-02 16:52:05--  http://groups.inf.ed.ac.uk/ami/AMICorpusMirror//amicorpus/ES2008c/audio/ES2008c.Array1-06.wav\n",
            "Resolving groups.inf.ed.ac.uk (groups.inf.ed.ac.uk)... 129.215.202.26\n",
            "Connecting to groups.inf.ed.ac.uk (groups.inf.ed.ac.uk)|129.215.202.26|:80... connected.\n",
            "HTTP request sent, awaiting response... 200 OK\n",
            "Length: 67283926 (64M) [audio/x-wav]\n",
            "Saving to: ‘amicorpus/ES2008c/audio/ES2008c.Array1-06.wav’\n",
            "\n",
            "ES2008c.Array1-06.w 100%[===================>]  64.17M  7.22MB/s    in 9.7s    \n",
            "\n",
            "2020-09-02 16:52:15 (6.62 MB/s) - ‘amicorpus/ES2008c/audio/ES2008c.Array1-06.wav’ saved [67283926/67283926]\n",
            "\n",
            "--2020-09-02 16:52:15--  http://groups.inf.ed.ac.uk/ami/AMICorpusMirror//amicorpus/ES2008c/audio/ES2008c.Array1-07.wav\n",
            "Resolving groups.inf.ed.ac.uk (groups.inf.ed.ac.uk)... 129.215.202.26\n",
            "Connecting to groups.inf.ed.ac.uk (groups.inf.ed.ac.uk)|129.215.202.26|:80... connected.\n",
            "HTTP request sent, awaiting response... 200 OK\n",
            "Length: 67283926 (64M) [audio/x-wav]\n",
            "Saving to: ‘amicorpus/ES2008c/audio/ES2008c.Array1-07.wav’\n",
            "\n",
            "ES2008c.Array1-07.w 100%[===================>]  64.17M  7.97MB/s    in 8.9s    \n",
            "\n",
            "2020-09-02 16:52:24 (7.21 MB/s) - ‘amicorpus/ES2008c/audio/ES2008c.Array1-07.wav’ saved [67283926/67283926]\n",
            "\n",
            "--2020-09-02 16:52:24--  http://groups.inf.ed.ac.uk/ami/AMICorpusMirror//amicorpus/ES2008c/audio/ES2008c.Array1-08.wav\n",
            "Resolving groups.inf.ed.ac.uk (groups.inf.ed.ac.uk)... 129.215.202.26\n",
            "Connecting to groups.inf.ed.ac.uk (groups.inf.ed.ac.uk)|129.215.202.26|:80... connected.\n",
            "HTTP request sent, awaiting response... 200 OK\n",
            "Length: 67283926 (64M) [audio/x-wav]\n",
            "Saving to: ‘amicorpus/ES2008c/audio/ES2008c.Array1-08.wav’\n",
            "\n",
            "ES2008c.Array1-08.w 100%[===================>]  64.17M  8.41MB/s    in 8.3s    \n",
            "\n",
            "2020-09-02 16:52:33 (7.73 MB/s) - ‘amicorpus/ES2008c/audio/ES2008c.Array1-08.wav’ saved [67283926/67283926]\n",
            "\n",
            "--2020-09-02 16:52:33--  http://groups.inf.ed.ac.uk/ami/AMICorpusMirror//amicorpus/ES2008c/audio/ES2008c.Array2-01.wav\n",
            "Resolving groups.inf.ed.ac.uk (groups.inf.ed.ac.uk)... 129.215.202.26\n",
            "Connecting to groups.inf.ed.ac.uk (groups.inf.ed.ac.uk)|129.215.202.26|:80... connected.\n",
            "HTTP request sent, awaiting response... 200 OK\n",
            "Length: 67283926 (64M) [audio/x-wav]\n",
            "Saving to: ‘amicorpus/ES2008c/audio/ES2008c.Array2-01.wav’\n",
            "\n",
            "ES2008c.Array2-01.w 100%[===================>]  64.17M  7.76MB/s    in 9.3s    \n",
            "\n",
            "2020-09-02 16:52:42 (6.90 MB/s) - ‘amicorpus/ES2008c/audio/ES2008c.Array2-01.wav’ saved [67283926/67283926]\n",
            "\n",
            "--2020-09-02 16:52:42--  http://groups.inf.ed.ac.uk/ami/AMICorpusMirror//amicorpus/ES2008c/audio/ES2008c.Array2-02.wav\n",
            "Resolving groups.inf.ed.ac.uk (groups.inf.ed.ac.uk)... 129.215.202.26\n",
            "Connecting to groups.inf.ed.ac.uk (groups.inf.ed.ac.uk)|129.215.202.26|:80... connected.\n",
            "HTTP request sent, awaiting response... 200 OK\n",
            "Length: 67283926 (64M) [audio/x-wav]\n",
            "Saving to: ‘amicorpus/ES2008c/audio/ES2008c.Array2-02.wav’\n",
            "\n",
            "ES2008c.Array2-02.w 100%[===================>]  64.17M  8.50MB/s    in 8.5s    \n",
            "\n",
            "2020-09-02 16:52:51 (7.58 MB/s) - ‘amicorpus/ES2008c/audio/ES2008c.Array2-02.wav’ saved [67283926/67283926]\n",
            "\n",
            "--2020-09-02 16:52:51--  http://groups.inf.ed.ac.uk/ami/AMICorpusMirror//amicorpus/ES2008c/audio/ES2008c.Array2-03.wav\n",
            "Resolving groups.inf.ed.ac.uk (groups.inf.ed.ac.uk)... 129.215.202.26\n",
            "Connecting to groups.inf.ed.ac.uk (groups.inf.ed.ac.uk)|129.215.202.26|:80... connected.\n",
            "HTTP request sent, awaiting response... 200 OK\n",
            "Length: 67283926 (64M) [audio/x-wav]\n",
            "Saving to: ‘amicorpus/ES2008c/audio/ES2008c.Array2-03.wav’\n",
            "\n",
            "ES2008c.Array2-03.w 100%[===================>]  64.17M  7.33MB/s    in 10s     \n",
            "\n",
            "2020-09-02 16:53:01 (6.40 MB/s) - ‘amicorpus/ES2008c/audio/ES2008c.Array2-03.wav’ saved [67283926/67283926]\n",
            "\n",
            "--2020-09-02 16:53:01--  http://groups.inf.ed.ac.uk/ami/AMICorpusMirror//amicorpus/ES2008c/audio/ES2008c.Array2-04.wav\n",
            "Resolving groups.inf.ed.ac.uk (groups.inf.ed.ac.uk)... 129.215.202.26\n",
            "Connecting to groups.inf.ed.ac.uk (groups.inf.ed.ac.uk)|129.215.202.26|:80... connected.\n",
            "HTTP request sent, awaiting response... 200 OK\n",
            "Length: 67283926 (64M) [audio/x-wav]\n",
            "Saving to: ‘amicorpus/ES2008c/audio/ES2008c.Array2-04.wav’\n",
            "\n",
            "ES2008c.Array2-04.w 100%[===================>]  64.17M  7.49MB/s    in 10s     \n",
            "\n",
            "2020-09-02 16:53:12 (6.21 MB/s) - ‘amicorpus/ES2008c/audio/ES2008c.Array2-04.wav’ saved [67283926/67283926]\n",
            "\n",
            "--2020-09-02 16:53:12--  http://groups.inf.ed.ac.uk/ami/AMICorpusMirror//amicorpus/ES2008c/audio/ES2008c.Array2-05.wav\n",
            "Resolving groups.inf.ed.ac.uk (groups.inf.ed.ac.uk)... 129.215.202.26\n",
            "Connecting to groups.inf.ed.ac.uk (groups.inf.ed.ac.uk)|129.215.202.26|:80... connected.\n",
            "HTTP request sent, awaiting response... 200 OK\n",
            "Length: 67283926 (64M) [audio/x-wav]\n",
            "Saving to: ‘amicorpus/ES2008c/audio/ES2008c.Array2-05.wav’\n",
            "\n",
            "ES2008c.Array2-05.w 100%[===================>]  64.17M  7.90MB/s    in 9.7s    \n",
            "\n",
            "2020-09-02 16:53:22 (6.59 MB/s) - ‘amicorpus/ES2008c/audio/ES2008c.Array2-05.wav’ saved [67283926/67283926]\n",
            "\n",
            "--2020-09-02 16:53:22--  http://groups.inf.ed.ac.uk/ami/AMICorpusMirror//amicorpus/ES2008c/audio/ES2008c.Array2-06.wav\n",
            "Resolving groups.inf.ed.ac.uk (groups.inf.ed.ac.uk)... 129.215.202.26\n",
            "Connecting to groups.inf.ed.ac.uk (groups.inf.ed.ac.uk)|129.215.202.26|:80... connected.\n",
            "HTTP request sent, awaiting response... 200 OK\n",
            "Length: 67283926 (64M) [audio/x-wav]\n",
            "Saving to: ‘amicorpus/ES2008c/audio/ES2008c.Array2-06.wav’\n",
            "\n",
            "ES2008c.Array2-06.w 100%[===================>]  64.17M  7.59MB/s    in 10s     \n",
            "\n",
            "2020-09-02 16:53:32 (6.37 MB/s) - ‘amicorpus/ES2008c/audio/ES2008c.Array2-06.wav’ saved [67283926/67283926]\n",
            "\n",
            "--2020-09-02 16:53:32--  http://groups.inf.ed.ac.uk/ami/AMICorpusMirror//amicorpus/ES2008c/audio/ES2008c.Array2-07.wav\n",
            "Resolving groups.inf.ed.ac.uk (groups.inf.ed.ac.uk)... 129.215.202.26\n",
            "Connecting to groups.inf.ed.ac.uk (groups.inf.ed.ac.uk)|129.215.202.26|:80... connected.\n",
            "HTTP request sent, awaiting response... 200 OK\n",
            "Length: 67283926 (64M) [audio/x-wav]\n",
            "Saving to: ‘amicorpus/ES2008c/audio/ES2008c.Array2-07.wav’\n",
            "\n",
            "ES2008c.Array2-07.w 100%[===================>]  64.17M  7.64MB/s    in 10s     \n",
            "\n",
            "2020-09-02 16:53:43 (6.39 MB/s) - ‘amicorpus/ES2008c/audio/ES2008c.Array2-07.wav’ saved [67283926/67283926]\n",
            "\n",
            "--2020-09-02 16:53:43--  http://groups.inf.ed.ac.uk/ami/AMICorpusMirror//amicorpus/ES2008c/audio/ES2008c.Array2-08.wav\n",
            "Resolving groups.inf.ed.ac.uk (groups.inf.ed.ac.uk)... 129.215.202.26\n",
            "Connecting to groups.inf.ed.ac.uk (groups.inf.ed.ac.uk)|129.215.202.26|:80... connected.\n",
            "HTTP request sent, awaiting response... 200 OK\n",
            "Length: 67283926 (64M) [audio/x-wav]\n",
            "Saving to: ‘amicorpus/ES2008c/audio/ES2008c.Array2-08.wav’\n",
            "\n",
            "ES2008c.Array2-08.w 100%[===================>]  64.17M  7.77MB/s    in 10s     \n",
            "\n",
            "2020-09-02 16:53:53 (6.19 MB/s) - ‘amicorpus/ES2008c/audio/ES2008c.Array2-08.wav’ saved [67283926/67283926]\n",
            "\n",
            "--2020-09-02 16:53:53--  http://groups.inf.ed.ac.uk/ami/download/temp/amiBuild-164536-Wed-Sep-2-2020.manifest.txt\n",
            "Resolving groups.inf.ed.ac.uk (groups.inf.ed.ac.uk)... 129.215.202.26\n",
            "Connecting to groups.inf.ed.ac.uk (groups.inf.ed.ac.uk)|129.215.202.26|:80... connected.\n",
            "HTTP request sent, awaiting response... 200 OK\n",
            "Length: 4809 (4.7K) [text/plain]\n",
            "Saving to: ‘amiBuild-164536-Wed-Sep-2-2020.manifest.txt’\n",
            "\n",
            "amiBuild-164536-Wed 100%[===================>]   4.70K  --.-KB/s    in 0s      \n",
            "\n",
            "2020-09-02 16:53:54 (395 MB/s) - ‘amiBuild-164536-Wed-Sep-2-2020.manifest.txt’ saved [4809/4809]\n",
            "\n",
            "--2020-09-02 16:53:54--  http://groups.inf.ed.ac.uk/ami/download/CCBY4.0.txt\n",
            "Resolving groups.inf.ed.ac.uk (groups.inf.ed.ac.uk)... 129.215.202.26\n",
            "Connecting to groups.inf.ed.ac.uk (groups.inf.ed.ac.uk)|129.215.202.26|:80... connected.\n",
            "HTTP request sent, awaiting response... 200 OK\n",
            "Length: 17026 (17K) [text/plain]\n",
            "Saving to: ‘CCBY4.0.txt’\n",
            "\n",
            "CCBY4.0.txt         100%[===================>]  16.63K  --.-KB/s    in 0.1s    \n",
            "\n",
            "2020-09-02 16:53:54 (168 KB/s) - ‘CCBY4.0.txt’ saved [17026/17026]\n",
            "\n"
          ],
          "name": "stdout"
        }
      ]
    },
    {
      "cell_type": "code",
      "metadata": {
        "id": "GO6_us77tk_k",
        "colab_type": "code",
        "colab": {}
      },
      "source": [
        "#after files downloaded and uploaded to gdrive , we will mount it to colab to access the files\n",
        "#after mounting the file path /content/drive/My Drive/audio_signals"
      ],
      "execution_count": 3,
      "outputs": []
    },
    {
      "cell_type": "code",
      "metadata": {
        "id": "t0sf_hyg2G1K",
        "colab_type": "code",
        "colab": {
          "base_uri": "https://localhost:8080/",
          "height": 351
        },
        "outputId": "a8388c88-b0f3-4c45-c347-36c6f79a4265"
      },
      "source": [
        "import librosa\n",
        "from glob import glob\n",
        "import numpy as np\n",
        "import matplotlib.pyplot as plt\n",
        "\n",
        "# instead of loop over all files in the current directory ending with .wav  we just plot only one single file to view \n",
        "#to check all uncomment the below line  and comment fname =\"/content/drive/My Drive/audio_signals/ES2008b.Array1-01.wav\"\n",
        "#for fname in glob(\"/content/drive/My Drive/audio_signals/*.wav\"):\n",
        "fname =\"/content/drive/My Drive/audio_signals/ES2008b.Array1-01.wav\"\n",
        "x , sr = librosa.load(fname)\n",
        "import librosa.display\n",
        "plt.figure(figsize=(14, 5))\n",
        "librosa.display.waveplot(x,sr=sr)"
      ],
      "execution_count": 1,
      "outputs": [
        {
          "output_type": "execute_result",
          "data": {
            "text/plain": [
              "<matplotlib.collections.PolyCollection at 0x7f4484114da0>"
            ]
          },
          "metadata": {
            "tags": []
          },
          "execution_count": 1
        },
        {
          "output_type": "display_data",
          "data": {
            "image/png": "[encoded data removed]",
            "text/plain": [
              "<Figure size 1008x360 with 1 Axes>"
            ]
          },
          "metadata": {
            "tags": [],
            "needs_background": "light"
          }
        }
      ]
    },
    {
      "cell_type": "code",
      "metadata": {
        "id": "5TVEWLk322Ud",
        "colab_type": "code",
        "colab": {}
      },
      "source": [
        "#now we have to to add noise to signals , so below is to create noise\n",
        "#Noise signals create\n",
        "def get_white_noise(signal,SNR) :\n",
        "    #RMS value of signal\n",
        "    RMS_s=math.sqrt(np.mean(signal**2))\n",
        "    #RMS values of noise\n",
        "    RMS_n=math.sqrt(RMS_s**2/(pow(10,SNR/20)))\n",
        "    #Additive white gausian noise. Thereore mean=0\n",
        "    #Because sample length is large (typically > 40000)\n",
        "    #we can use the population formula for standard daviation.\n",
        "    #because mean=0 STD=RMS\n",
        "    STD_n=RMS_n\n",
        "    noise=np.random.normal(0, STD_n, signal.shape[0])\n",
        "    return noise"
      ],
      "execution_count": 2,
      "outputs": []
    },
    {
      "cell_type": "code",
      "metadata": {
        "id": "uif4Zqlw3To8",
        "colab_type": "code",
        "colab": {}
      },
      "source": [
        "import math\n",
        "signal=np.interp(x, (x.min(), x.max()), (-1, 1))\n",
        "noise=get_white_noise(signal,SNR=10)"
      ],
      "execution_count": 3,
      "outputs": []
    },
    {
      "cell_type": "code",
      "metadata": {
        "id": "HCB2_fYQ3e7z",
        "colab_type": "code",
        "colab": {}
      },
      "source": [
        "#Adding noise to audio signals this segment \n",
        "\n",
        "X = []\n",
        "pad = lambda a, i: a[0: i] if a.shape[0] > i else np.hstack((a, np.zeros(i - a.shape[0])))\n",
        "import matplotlib.pyplot as plt\n",
        "for fname in glob(\"/content/drive/My Drive/audio_signals/*.wav\"):\n",
        "  #sr,x = wavfile.read(fname)\n",
        "  x , sr = librosa.load(fname)\n",
        "  signal=np.interp(x, (x.min(), x.max()), (-1, 1))\n",
        "  noise=get_white_noise(signal,SNR=10)\n",
        "  signal_noise=signal+noise\n",
        "  padded = pad(signal_noise, 16384)\n",
        "  X.append(padded)\n",
        "  #fig, ax = plt.subplots(figsize=(10,4))\n",
        "  #ax.plot(signal_noise)\n",
        "  #plt.plot(signal_noise)"
      ],
      "execution_count": 4,
      "outputs": []
    },
    {
      "cell_type": "code",
      "metadata": {
        "id": "r4HkzUop3iBa",
        "colab_type": "code",
        "colab": {}
      },
      "source": [
        "###run this to merge all original signals  into single list so we can have training data as original audio\n",
        " #and target data as noise signals\n",
        "X_org = []\n",
        "pad = lambda a, i: a[0: i] if a.shape[0] > i else np.hstack((a, np.zeros(i - a.shape[0])))\n",
        "for fname in glob(\"/content/drive/My Drive/audio_signals/*.wav\"):\n",
        "  x , sr = librosa.load(fname)\n",
        "  padded = pad(x, 16384)\n",
        "  X_org.append(padded)"
      ],
      "execution_count": 5,
      "outputs": []
    },
    {
      "cell_type": "code",
      "metadata": {
        "id": "4b6NVd723kuE",
        "colab_type": "code",
        "colab": {}
      },
      "source": [
        "#stack these as col featurs\n",
        "X=np.vstack(X)"
      ],
      "execution_count": 6,
      "outputs": []
    },
    {
      "cell_type": "code",
      "metadata": {
        "id": "7jN1Mcjd3qdK",
        "colab_type": "code",
        "colab": {
          "base_uri": "https://localhost:8080/",
          "height": 34
        },
        "outputId": "bafe20b8-e29c-4e46-9cab-1c9d2a274527"
      },
      "source": [
        "X.shape"
      ],
      "execution_count": 7,
      "outputs": [
        {
          "output_type": "execute_result",
          "data": {
            "text/plain": [
              "(8, 16384)"
            ]
          },
          "metadata": {
            "tags": []
          },
          "execution_count": 7
        }
      ]
    },
    {
      "cell_type": "code",
      "metadata": {
        "id": "z-ZPR9dF3rCM",
        "colab_type": "code",
        "colab": {}
      },
      "source": [
        ""
      ],
      "execution_count": null,
      "outputs": []
    },
    {
      "cell_type": "code",
      "metadata": {
        "id": "1vNaN7XC3tJq",
        "colab_type": "code",
        "colab": {}
      },
      "source": [
        "X_org=np.vstack(X_org)"
      ],
      "execution_count": 8,
      "outputs": []
    },
    {
      "cell_type": "code",
      "metadata": {
        "id": "2HXNc9Jm3vmI",
        "colab_type": "code",
        "colab": {
          "base_uri": "https://localhost:8080/",
          "height": 34
        },
        "outputId": "e0cbdc7d-a903-466b-bfa1-eecc688b4d8d"
      },
      "source": [
        "X_org.shape"
      ],
      "execution_count": 9,
      "outputs": [
        {
          "output_type": "execute_result",
          "data": {
            "text/plain": [
              "(8, 16384)"
            ]
          },
          "metadata": {
            "tags": []
          },
          "execution_count": 9
        }
      ]
    },
    {
      "cell_type": "code",
      "metadata": {
        "id": "K1RW8Kxe3ytJ",
        "colab_type": "code",
        "colab": {}
      },
      "source": [
        "#split into train test\n",
        "from sklearn.model_selection import train_test_split\n",
        "X_train, X_test, y_train, y_test  = train_test_split(X,X_org,test_size=0.1)"
      ],
      "execution_count": 10,
      "outputs": []
    },
    {
      "cell_type": "code",
      "metadata": {
        "id": "N7l8cNAT31r6",
        "colab_type": "code",
        "colab": {
          "base_uri": "https://localhost:8080/",
          "height": 34
        },
        "outputId": "08eccb64-3b37-4ed1-f71f-5e477d53db05"
      },
      "source": [
        "print(X_train.shape,X_test.shape,y_train.shape,y_test.shape)"
      ],
      "execution_count": 11,
      "outputs": [
        {
          "output_type": "stream",
          "text": [
            "(7, 16384) (1, 16384) (7, 16384) (1, 16384)\n"
          ],
          "name": "stdout"
        }
      ]
    },
    {
      "cell_type": "code",
      "metadata": {
        "id": "VLSR1vBV34_i",
        "colab_type": "code",
        "colab": {}
      },
      "source": [
        "#reshape\n",
        "X_train=X_train.reshape(128,128,7)\n",
        "y_train=y_train.reshape(128,128,7)\n",
        "X_test=X_test.reshape(128,128,1)\n",
        "y_test=y_test.reshape(128,128,1)"
      ],
      "execution_count": 12,
      "outputs": []
    },
    {
      "cell_type": "code",
      "metadata": {
        "id": "XPfYvSWD6eOs",
        "colab_type": "code",
        "colab": {}
      },
      "source": [
        "from tensorflow.keras.models import Model\n",
        "from tensorflow.keras.layers import Input, Conv2D, LeakyReLU, MaxPooling2D, Dropout, concatenate, UpSampling2D\n",
        "from tensorflow.keras.optimizers import Adam\n",
        "from tensorflow.keras import backend\n",
        "import tensorflow as tf"
      ],
      "execution_count": 13,
      "outputs": []
    },
    {
      "cell_type": "code",
      "metadata": {
        "id": "yvnQ1Kpy6iOK",
        "colab_type": "code",
        "colab": {}
      },
      "source": [
        "##resahping it again to avoid dimensional error\n",
        "X_train = X_train.reshape(7,128,128,1)\n",
        "y_train=y_train.reshape(7,128,128,1)\n",
        "X_test=X_test.reshape(1,128,128,1)\n",
        "y_test=y_test.reshape(1,128,128,1)"
      ],
      "execution_count": 14,
      "outputs": []
    },
    {
      "cell_type": "code",
      "metadata": {
        "id": "yL7vByvr6ltZ",
        "colab_type": "code",
        "colab": {}
      },
      "source": [
        "#define U-net architecture\n",
        "input_size = (128,128,1)\n",
        "size_filter_in = 16\n",
        "#normal initialization of weights\n",
        "kernel_init = 'he_normal'\n",
        "#we are applying leaky relu after the conv layer , so we made it simple conv layer (kind of regression)\n",
        "activation_layer = None\n",
        "inputs = Input(input_size)\n",
        "conv1 = Conv2D(size_filter_in, 3, activation = activation_layer, padding = 'same', kernel_initializer = kernel_init)(inputs)\n",
        "conv1 = LeakyReLU()(conv1)\n",
        "conv1 = Conv2D(size_filter_in, 3, activation = activation_layer, padding = 'same', kernel_initializer = kernel_init)(conv1)\n",
        "conv1 = LeakyReLU()(conv1)\n",
        "pool1 = MaxPooling2D(pool_size=(2, 2))(conv1)\n",
        "conv2 = Conv2D(size_filter_in*2, 3, activation = activation_layer, padding = 'same', kernel_initializer = kernel_init)(pool1)\n",
        "conv2 = LeakyReLU()(conv2)\n",
        "conv2 = Conv2D(size_filter_in*2, 3, activation = activation_layer, padding = 'same', kernel_initializer = kernel_init)(conv2)\n",
        "conv2 = LeakyReLU()(conv2)\n",
        "pool2 = MaxPooling2D(pool_size=(2, 2))(conv2)\n",
        "conv3 = Conv2D(size_filter_in*4, 3, activation = activation_layer, padding = 'same', kernel_initializer = kernel_init)(pool2)\n",
        "conv3 = LeakyReLU()(conv3)\n",
        "conv3 = Conv2D(size_filter_in*4, 3, activation = activation_layer, padding = 'same', kernel_initializer = kernel_init)(conv3)\n",
        "conv3 = LeakyReLU()(conv3)\n",
        "pool3 = MaxPooling2D(pool_size=(2, 2))(conv3)\n",
        "conv4 = Conv2D(size_filter_in*8, 3, activation = activation_layer, padding = 'same', kernel_initializer = kernel_init)(pool3)\n",
        "conv4 = LeakyReLU()(conv4)\n",
        "conv4 = Conv2D(size_filter_in*8, 3, activation = activation_layer, padding = 'same', kernel_initializer = kernel_init)(conv4)\n",
        "conv4 = LeakyReLU()(conv4)\n",
        "drop4 = Dropout(0.5)(conv4)\n",
        "pool4 = MaxPooling2D(pool_size=(2, 2))(drop4)\n",
        "\n",
        "conv5 = Conv2D(size_filter_in*16, 3, activation = activation_layer, padding = 'same', kernel_initializer = kernel_init)(pool4)\n",
        "conv5 = LeakyReLU()(conv5)\n",
        "conv5 = Conv2D(size_filter_in*16, 3, activation = activation_layer, padding = 'same', kernel_initializer = kernel_init)(conv5)\n",
        "conv5 = LeakyReLU()(conv5)\n",
        "drop5 = Dropout(0.5)(conv5)\n",
        "\n",
        "up6 = Conv2D(size_filter_in*8, 2, activation = activation_layer, padding = 'same', kernel_initializer = kernel_init)(UpSampling2D(size = (2,2))(drop5))\n",
        "up6 = LeakyReLU()(up6)\n",
        "merge6 = concatenate([drop4,up6], axis = 3)\n",
        "conv6 = Conv2D(size_filter_in*8, 3, activation = activation_layer, padding = 'same', kernel_initializer = kernel_init)(merge6)\n",
        "conv6 = LeakyReLU()(conv6)\n",
        "conv6 = Conv2D(size_filter_in*8, 3, activation = activation_layer, padding = 'same', kernel_initializer = kernel_init)(conv6)\n",
        "conv6 = LeakyReLU()(conv6)\n",
        "up7 = Conv2D(size_filter_in*4, 2, activation = activation_layer, padding = 'same', kernel_initializer = kernel_init)(UpSampling2D(size = (2,2))(conv6))\n",
        "up7 = LeakyReLU()(up7)\n",
        "merge7 = concatenate([conv3,up7], axis = 3)\n",
        "conv7 = Conv2D(size_filter_in*4, 3, activation = activation_layer, padding = 'same', kernel_initializer = kernel_init)(merge7)\n",
        "conv7 = LeakyReLU()(conv7)\n",
        "conv7 = Conv2D(size_filter_in*4, 3, activation = activation_layer, padding = 'same', kernel_initializer = kernel_init)(conv7)\n",
        "conv7 = LeakyReLU()(conv7)\n",
        "up8 = Conv2D(size_filter_in*2, 2, activation = activation_layer, padding = 'same', kernel_initializer = kernel_init)(UpSampling2D(size = (2,2))(conv7))\n",
        "up8 = LeakyReLU()(up8)\n",
        "merge8 = concatenate([conv2,up8], axis = 3)\n",
        "conv8 = Conv2D(size_filter_in*2, 3, activation = activation_layer, padding = 'same', kernel_initializer = kernel_init)(merge8)\n",
        "conv8 = LeakyReLU()(conv8)\n",
        "conv8 = Conv2D(size_filter_in*2, 3, activation = activation_layer, padding = 'same', kernel_initializer = kernel_init)(conv8)\n",
        "conv8 = LeakyReLU()(conv8)\n",
        "\n",
        "up9 = Conv2D(size_filter_in, 2, activation = activation_layer, padding = 'same', kernel_initializer = kernel_init)(UpSampling2D(size = (2,2))(conv8))\n",
        "up9 = LeakyReLU()(up9)\n",
        "merge9 = concatenate([conv1,up9], axis = 3)\n",
        "conv9 = Conv2D(size_filter_in, 3, activation = activation_layer, padding = 'same', kernel_initializer = kernel_init)(merge9)\n",
        "conv9 = LeakyReLU()(conv9)\n",
        "conv9 = Conv2D(size_filter_in, 3, activation = activation_layer, padding = 'same', kernel_initializer = kernel_init)(conv9)\n",
        "conv9 = LeakyReLU()(conv9)\n",
        "conv9 = Conv2D(2, 3, activation = activation_layer, padding = 'same', kernel_initializer = kernel_init)(conv9)\n",
        "conv9 = LeakyReLU()(conv9)\n",
        "conv10 = Conv2D(1, 1, activation = 'tanh')(conv9)"
      ],
      "execution_count": 17,
      "outputs": []
    },
    {
      "cell_type": "code",
      "metadata": {
        "id": "-2q6jIc76xpi",
        "colab_type": "code",
        "colab": {}
      },
      "source": [
        "model = Model(inputs,conv10)"
      ],
      "execution_count": 18,
      "outputs": []
    },
    {
      "cell_type": "code",
      "metadata": {
        "id": "GAMc-Q4e6yHd",
        "colab_type": "code",
        "colab": {}
      },
      "source": [
        "model.compile(optimizer = 'adam', loss = tf.keras.losses.Huber(), metrics = ['mae'])\n",
        "#from tensorflow.keras.optimizers import SGD\n",
        "#sgd=SGD(learning_rate=0.0001, momentum=0.0, nesterov=False)\n",
        "#model.compile(optimizer = sgd, loss = tf.keras.losses.Huber(), metrics = ['mae'])"
      ],
      "execution_count": 19,
      "outputs": []
    },
    {
      "cell_type": "code",
      "metadata": {
        "id": "WBqjki0U62EW",
        "colab_type": "code",
        "colab": {}
      },
      "source": [
        "%load_ext tensorboard\n",
        "from datetime import datetime\n",
        "from tensorflow import keras\n",
        "logdir = \"logs/scalars/\" + datetime.now().strftime(\"%Y%m%d-%H%M%S\")\n",
        "tensorboard_callback = keras.callbacks.TensorBoard(log_dir=logdir)"
      ],
      "execution_count": 20,
      "outputs": []
    },
    {
      "cell_type": "code",
      "metadata": {
        "id": "MfPoyEKU65en",
        "colab_type": "code",
        "colab": {
          "base_uri": "https://localhost:8080/",
          "height": 1000
        },
        "outputId": "70660922-333e-4ea0-f5a4-6692ff620013"
      },
      "source": [
        "#model training\n",
        "model.fit(X_train,y_train,\n",
        "              epochs=50,\n",
        "              batch_size=1,\n",
        "             shuffle=True,\n",
        "            validation_data=(X_test,y_test),callbacks=[tensorboard_callback],)"
      ],
      "execution_count": 21,
      "outputs": [
        {
          "output_type": "stream",
          "text": [
            "Epoch 1/50\n",
            "1/7 [===>..........................] - ETA: 0s - loss: 0.0171 - mae: 0.1472WARNING:tensorflow:From /usr/local/lib/python3.6/dist-packages/tensorflow/python/ops/summary_ops_v2.py:1277: stop (from tensorflow.python.eager.profiler) is deprecated and will be removed after 2020-07-01.\n",
            "Instructions for updating:\n",
            "use `tf.profiler.experimental.stop` instead.\n",
            "2/7 [=======>......................] - ETA: 0s - loss: 0.0086 - mae: 0.0813WARNING:tensorflow:Callbacks method `on_train_batch_end` is slow compared to the batch time (batch time: 0.0162s vs `on_train_batch_end` time: 0.0877s). Check your callbacks.\n",
            "7/7 [==============================] - 0s 70ms/step - loss: 0.0252 - mae: 0.1448 - val_loss: 3.9307e-04 - val_mae: 0.0212\n",
            "Epoch 2/50\n",
            "7/7 [==============================] - 0s 13ms/step - loss: 0.0079 - mae: 0.0742 - val_loss: 6.1026e-04 - val_mae: 0.0329\n",
            "Epoch 3/50\n",
            "7/7 [==============================] - 0s 12ms/step - loss: 0.0250 - mae: 0.1163 - val_loss: 0.0014 - val_mae: 0.0448\n",
            "Epoch 4/50\n",
            "7/7 [==============================] - 0s 13ms/step - loss: 0.1038 - mae: 0.2883 - val_loss: 0.0633 - val_mae: 0.3201\n",
            "Epoch 5/50\n",
            "7/7 [==============================] - 0s 13ms/step - loss: 0.2165 - mae: 0.4909 - val_loss: 0.1376 - val_mae: 0.4452\n",
            "Epoch 6/50\n",
            "7/7 [==============================] - 0s 13ms/step - loss: 0.1979 - mae: 0.4713 - val_loss: 0.3556 - val_mae: 0.7965\n",
            "Epoch 7/50\n",
            "7/7 [==============================] - 0s 13ms/step - loss: 0.1611 - mae: 0.4176 - val_loss: 0.0245 - val_mae: 0.2008\n",
            "Epoch 8/50\n",
            "7/7 [==============================] - 0s 13ms/step - loss: 0.0086 - mae: 0.0911 - val_loss: 0.0037 - val_mae: 0.0768\n",
            "Epoch 9/50\n",
            "7/7 [==============================] - 0s 13ms/step - loss: 0.0123 - mae: 0.0987 - val_loss: 0.0032 - val_mae: 0.0697\n",
            "Epoch 10/50\n",
            "7/7 [==============================] - 0s 13ms/step - loss: 0.0065 - mae: 0.0567 - val_loss: 0.0349 - val_mae: 0.2334\n",
            "Epoch 11/50\n",
            "7/7 [==============================] - 0s 14ms/step - loss: 0.0612 - mae: 0.2240 - val_loss: 0.0044 - val_mae: 0.0830\n",
            "Epoch 12/50\n",
            "7/7 [==============================] - 0s 12ms/step - loss: 0.0086 - mae: 0.0775 - val_loss: 0.0020 - val_mae: 0.0571\n",
            "Epoch 13/50\n",
            "7/7 [==============================] - 0s 12ms/step - loss: 0.0127 - mae: 0.0916 - val_loss: 0.0269 - val_mae: 0.2098\n",
            "Epoch 14/50\n",
            "7/7 [==============================] - 0s 14ms/step - loss: 0.0515 - mae: 0.2089 - val_loss: 0.0091 - val_mae: 0.1239\n",
            "Epoch 15/50\n",
            "7/7 [==============================] - 0s 13ms/step - loss: 0.0068 - mae: 0.0673 - val_loss: 0.0047 - val_mae: 0.0812\n",
            "Epoch 16/50\n",
            "7/7 [==============================] - 0s 13ms/step - loss: 6.0213e-04 - mae: 0.0225 - val_loss: 0.0015 - val_mae: 0.0380\n",
            "Epoch 17/50\n",
            "7/7 [==============================] - 0s 13ms/step - loss: 4.1313e-04 - mae: 0.0180 - val_loss: 0.0014 - val_mae: 0.0364\n",
            "Epoch 18/50\n",
            "7/7 [==============================] - 0s 13ms/step - loss: 2.3432e-04 - mae: 0.0127 - val_loss: 0.0014 - val_mae: 0.0360\n",
            "Epoch 19/50\n",
            "7/7 [==============================] - 0s 12ms/step - loss: 1.5843e-04 - mae: 0.0102 - val_loss: 0.0014 - val_mae: 0.0367\n",
            "Epoch 20/50\n",
            "7/7 [==============================] - 0s 13ms/step - loss: 1.2988e-04 - mae: 0.0087 - val_loss: 0.0019 - val_mae: 0.0411\n",
            "Epoch 21/50\n",
            "7/7 [==============================] - 0s 14ms/step - loss: 5.1019e-04 - mae: 0.0129 - val_loss: 0.0011 - val_mae: 0.0352\n",
            "Epoch 22/50\n",
            "7/7 [==============================] - 0s 13ms/step - loss: 5.8125e-04 - mae: 0.0193 - val_loss: 0.0016 - val_mae: 0.0434\n",
            "Epoch 23/50\n",
            "7/7 [==============================] - 0s 13ms/step - loss: 8.6572e-04 - mae: 0.0215 - val_loss: 0.0021 - val_mae: 0.0493\n",
            "Epoch 24/50\n",
            "7/7 [==============================] - 0s 14ms/step - loss: 0.0016 - mae: 0.0291 - val_loss: 0.0025 - val_mae: 0.0559\n",
            "Epoch 25/50\n",
            "7/7 [==============================] - 0s 13ms/step - loss: 3.8848e-04 - mae: 0.0170 - val_loss: 0.0027 - val_mae: 0.0595\n",
            "Epoch 26/50\n",
            "7/7 [==============================] - 0s 13ms/step - loss: 1.7681e-04 - mae: 0.0125 - val_loss: 0.0025 - val_mae: 0.0586\n",
            "Epoch 27/50\n",
            "7/7 [==============================] - 0s 13ms/step - loss: 8.1111e-05 - mae: 0.0093 - val_loss: 0.0021 - val_mae: 0.0530\n",
            "Epoch 28/50\n",
            "7/7 [==============================] - 0s 13ms/step - loss: 6.7519e-05 - mae: 0.0090 - val_loss: 0.0018 - val_mae: 0.0495\n",
            "Epoch 29/50\n",
            "7/7 [==============================] - 0s 13ms/step - loss: 6.2674e-05 - mae: 0.0086 - val_loss: 0.0017 - val_mae: 0.0478\n",
            "Epoch 30/50\n",
            "7/7 [==============================] - 0s 14ms/step - loss: 5.7704e-05 - mae: 0.0083 - val_loss: 0.0016 - val_mae: 0.0468\n",
            "Epoch 31/50\n",
            "7/7 [==============================] - 0s 13ms/step - loss: 5.2274e-05 - mae: 0.0079 - val_loss: 0.0016 - val_mae: 0.0463\n",
            "Epoch 32/50\n",
            "7/7 [==============================] - 0s 13ms/step - loss: 4.9445e-05 - mae: 0.0076 - val_loss: 0.0016 - val_mae: 0.0458\n",
            "Epoch 33/50\n",
            "7/7 [==============================] - 0s 13ms/step - loss: 4.4736e-05 - mae: 0.0071 - val_loss: 0.0016 - val_mae: 0.0456\n",
            "Epoch 34/50\n",
            "7/7 [==============================] - 0s 13ms/step - loss: 4.5722e-05 - mae: 0.0071 - val_loss: 0.0016 - val_mae: 0.0453\n",
            "Epoch 35/50\n",
            "7/7 [==============================] - 0s 13ms/step - loss: 4.2722e-05 - mae: 0.0068 - val_loss: 0.0015 - val_mae: 0.0450\n",
            "Epoch 36/50\n",
            "7/7 [==============================] - 0s 13ms/step - loss: 4.1104e-05 - mae: 0.0066 - val_loss: 0.0015 - val_mae: 0.0446\n",
            "Epoch 37/50\n",
            "7/7 [==============================] - 0s 12ms/step - loss: 4.0241e-05 - mae: 0.0064 - val_loss: 0.0015 - val_mae: 0.0445\n",
            "Epoch 38/50\n",
            "7/7 [==============================] - 0s 13ms/step - loss: 3.8874e-05 - mae: 0.0063 - val_loss: 0.0015 - val_mae: 0.0444\n",
            "Epoch 39/50\n",
            "7/7 [==============================] - 0s 12ms/step - loss: 3.9359e-05 - mae: 0.0063 - val_loss: 0.0015 - val_mae: 0.0442\n",
            "Epoch 40/50\n",
            "7/7 [==============================] - 0s 14ms/step - loss: 3.6334e-05 - mae: 0.0061 - val_loss: 0.0015 - val_mae: 0.0440\n",
            "Epoch 41/50\n",
            "7/7 [==============================] - 0s 13ms/step - loss: 3.6024e-05 - mae: 0.0060 - val_loss: 0.0015 - val_mae: 0.0438\n",
            "Epoch 42/50\n",
            "7/7 [==============================] - 0s 13ms/step - loss: 3.4687e-05 - mae: 0.0058 - val_loss: 0.0015 - val_mae: 0.0438\n",
            "Epoch 43/50\n",
            "7/7 [==============================] - 0s 13ms/step - loss: 3.4209e-05 - mae: 0.0058 - val_loss: 0.0015 - val_mae: 0.0437\n",
            "Epoch 44/50\n",
            "7/7 [==============================] - 0s 12ms/step - loss: 3.3138e-05 - mae: 0.0057 - val_loss: 0.0015 - val_mae: 0.0437\n",
            "Epoch 45/50\n",
            "7/7 [==============================] - 0s 13ms/step - loss: 3.2964e-05 - mae: 0.0056 - val_loss: 0.0015 - val_mae: 0.0437\n",
            "Epoch 46/50\n",
            "7/7 [==============================] - 0s 13ms/step - loss: 3.2689e-05 - mae: 0.0056 - val_loss: 0.0015 - val_mae: 0.0436\n",
            "Epoch 47/50\n",
            "7/7 [==============================] - 0s 13ms/step - loss: 3.1677e-05 - mae: 0.0055 - val_loss: 0.0014 - val_mae: 0.0435\n",
            "Epoch 48/50\n",
            "7/7 [==============================] - 0s 13ms/step - loss: 3.1348e-05 - mae: 0.0055 - val_loss: 0.0014 - val_mae: 0.0434\n",
            "Epoch 49/50\n",
            "7/7 [==============================] - 0s 12ms/step - loss: 3.0989e-05 - mae: 0.0054 - val_loss: 0.0014 - val_mae: 0.0434\n",
            "Epoch 50/50\n",
            "7/7 [==============================] - 0s 13ms/step - loss: 3.0910e-05 - mae: 0.0053 - val_loss: 0.0014 - val_mae: 0.0428\n"
          ],
          "name": "stdout"
        },
        {
          "output_type": "execute_result",
          "data": {
            "text/plain": [
              "<tensorflow.python.keras.callbacks.History at 0x7f444028eba8>"
            ]
          },
          "metadata": {
            "tags": []
          },
          "execution_count": 21
        }
      ]
    },
    {
      "cell_type": "code",
      "metadata": {
        "id": "0RoMMv637EBO",
        "colab_type": "code",
        "colab": {
          "base_uri": "https://localhost:8080/",
          "height": 278
        },
        "outputId": "59008206-f258-4160-f7a6-db67132cf999"
      },
      "source": [
        "#after training completed ,we will test it on a audio signal  file \n",
        "#read a test signal,add noise and pad it ,make it similar to train data shape and use the model to donoise it\n",
        "## /content/ES2008b.Array2-01.wav this file , uploaded to colab manually as its test , its also available gdrive\n",
        "X_test = []\n",
        "pad = lambda a, i: a[0: i] if a.shape[0] > i else np.hstack((a, np.zeros(i - a.shape[0])))\n",
        "import matplotlib.pyplot as plt\n",
        "for fname in glob(\"/content/ES2008b.Array2-01.wav\"):\n",
        "  #sr,x = wavfile.read(fname)\n",
        "  x , sr = librosa.load(fname)\n",
        "  signal=np.interp(x, (x.min(), x.max()), (-1, 1))\n",
        "  noise=get_white_noise(signal,SNR=10)\n",
        "  signal_noise=signal+noise\n",
        "  padded = pad(signal_noise, 16384)\n",
        "  X_test.append(padded)\n",
        "  fig, ax = plt.subplots(figsize=(10,4))\n",
        "  ax.plot(signal_noise)\n",
        "  plt.plot(signal_noise)"
      ],
      "execution_count": 22,
      "outputs": [
        {
          "output_type": "display_data",
          "data": {
            "image/png": "[encoded data removed]",
            "text/plain": [
              "<Figure size 720x288 with 1 Axes>"
            ]
          },
          "metadata": {
            "tags": [],
            "needs_background": "light"
          }
        }
      ]
    },
    {
      "cell_type": "code",
      "metadata": {
        "id": "szhzZVwL8_as",
        "colab_type": "code",
        "colab": {}
      },
      "source": [
        "X_test=np.vstack(X_test)"
      ],
      "execution_count": 23,
      "outputs": []
    },
    {
      "cell_type": "code",
      "metadata": {
        "id": "KSRwW7-l9Fux",
        "colab_type": "code",
        "colab": {
          "base_uri": "https://localhost:8080/",
          "height": 34
        },
        "outputId": "941aadb6-216c-40da-b196-d7b4759bdefd"
      },
      "source": [
        "X_test.shape"
      ],
      "execution_count": 24,
      "outputs": [
        {
          "output_type": "execute_result",
          "data": {
            "text/plain": [
              "(1, 16384)"
            ]
          },
          "metadata": {
            "tags": []
          },
          "execution_count": 24
        }
      ]
    },
    {
      "cell_type": "code",
      "metadata": {
        "id": "GMCV8sR_9HiG",
        "colab_type": "code",
        "colab": {
          "base_uri": "https://localhost:8080/",
          "height": 34
        },
        "outputId": "6928c92c-cb5b-4dee-f93e-4277281c3bfa"
      },
      "source": [
        "X_test = X_test.reshape(1,128,128,1)\n",
        "X_test.shape"
      ],
      "execution_count": 25,
      "outputs": [
        {
          "output_type": "execute_result",
          "data": {
            "text/plain": [
              "(1, 128, 128, 1)"
            ]
          },
          "metadata": {
            "tags": []
          },
          "execution_count": 25
        }
      ]
    },
    {
      "cell_type": "code",
      "metadata": {
        "id": "YwrDunMJ9Lbj",
        "colab_type": "code",
        "colab": {}
      },
      "source": [
        "#predict , denoise \n",
        "y=model.predict(X_test)"
      ],
      "execution_count": 26,
      "outputs": []
    },
    {
      "cell_type": "code",
      "metadata": {
        "id": "5cXEm41P9PYf",
        "colab_type": "code",
        "colab": {
          "base_uri": "https://localhost:8080/",
          "height": 34
        },
        "outputId": "30bd8845-59d7-408e-a7e3-a0141154b2a1"
      },
      "source": [
        "y.shape"
      ],
      "execution_count": 27,
      "outputs": [
        {
          "output_type": "execute_result",
          "data": {
            "text/plain": [
              "(1, 128, 128, 1)"
            ]
          },
          "metadata": {
            "tags": []
          },
          "execution_count": 27
        }
      ]
    },
    {
      "cell_type": "code",
      "metadata": {
        "id": "13FHbNkJ9P8y",
        "colab_type": "code",
        "colab": {}
      },
      "source": [
        "y=y.reshape(16384,1)"
      ],
      "execution_count": 28,
      "outputs": []
    },
    {
      "cell_type": "code",
      "metadata": {
        "id": "DrvqZKfs9The",
        "colab_type": "code",
        "colab": {}
      },
      "source": [
        "#write it to check signal , it will be available in drive after writing for temprorary period\n",
        "librosa.output.write_wav(\"clean_signal.wav\",y,sr=sr)"
      ],
      "execution_count": 29,
      "outputs": []
    },
    {
      "cell_type": "code",
      "metadata": {
        "id": "r8ydfRPC9a-y",
        "colab_type": "code",
        "colab": {
          "base_uri": "https://localhost:8080/",
          "height": 296
        },
        "outputId": "072b1d93-7696-4fb2-93c6-6707050ab862"
      },
      "source": [
        "#now plot the cleaned audio file , \n",
        "import librosa\n",
        "fname=\"/content/clean_signal.wav\"\n",
        "x , sr = librosa.load(fname)\n",
        "import librosa.display\n",
        "plt.figure(figsize=(10, 4))\n",
        "librosa.display.waveplot(x,sr=sr)"
      ],
      "execution_count": 30,
      "outputs": [
        {
          "output_type": "execute_result",
          "data": {
            "text/plain": [
              "<matplotlib.collections.PolyCollection at 0x7f43ea5992e8>"
            ]
          },
          "metadata": {
            "tags": []
          },
          "execution_count": 30
        },
        {
          "output_type": "display_data",
          "data": {
            "image/png": "[encoded data removed]",
            "text/plain": [
              "<Figure size 720x288 with 1 Axes>"
            ]
          },
          "metadata": {
            "tags": [],
            "needs_background": "light"
          }
        }
      ]
    },
    {
      "cell_type": "code",
      "metadata": {
        "id": "OjXpXaR199dV",
        "colab_type": "code",
        "colab": {}
      },
      "source": [
        "#PLOTTING ORIGINAL FILE after padding to easy comparision"
      ],
      "execution_count": 31,
      "outputs": []
    },
    {
      "cell_type": "code",
      "metadata": {
        "id": "aLmPlyRiB2Ch",
        "colab_type": "code",
        "colab": {
          "base_uri": "https://localhost:8080/",
          "height": 34
        },
        "outputId": "bb1cc5ed-c6b3-46fc-e3fc-4f6edbd68dd4"
      },
      "source": [
        "X_test.shape"
      ],
      "execution_count": 32,
      "outputs": [
        {
          "output_type": "execute_result",
          "data": {
            "text/plain": [
              "(1, 128, 128, 1)"
            ]
          },
          "metadata": {
            "tags": []
          },
          "execution_count": 32
        }
      ]
    },
    {
      "cell_type": "code",
      "metadata": {
        "id": "FHFEC26rB2xF",
        "colab_type": "code",
        "colab": {}
      },
      "source": [
        "X_test1=X_test.reshape(16384,1)"
      ],
      "execution_count": 33,
      "outputs": []
    },
    {
      "cell_type": "code",
      "metadata": {
        "id": "GSZPgoTDB4Sm",
        "colab_type": "code",
        "colab": {}
      },
      "source": [
        "librosa.output.write_wav(\"Original.wav\",X_test1,sr=sr)"
      ],
      "execution_count": 34,
      "outputs": []
    },
    {
      "cell_type": "code",
      "metadata": {
        "id": "vRDLDY3YB5mi",
        "colab_type": "code",
        "colab": {
          "base_uri": "https://localhost:8080/",
          "height": 296
        },
        "outputId": "b63670ed-979b-4436-f6d6-5d7a4f30073d"
      },
      "source": [
        "fname=\"/content/Original.wav\"\n",
        "x , sr = librosa.load(fname)\n",
        "import librosa.display\n",
        "plt.figure(figsize=(10, 4))\n",
        "librosa.display.waveplot(x,sr=sr)"
      ],
      "execution_count": 35,
      "outputs": [
        {
          "output_type": "execute_result",
          "data": {
            "text/plain": [
              "<matplotlib.collections.PolyCollection at 0x7f43ea55eac8>"
            ]
          },
          "metadata": {
            "tags": []
          },
          "execution_count": 35
        },
        {
          "output_type": "display_data",
          "data": {
            "image/png": "[encoded data removed]",
            "text/plain": [
              "<Figure size 720x288 with 1 Axes>"
            ]
          },
          "metadata": {
            "tags": [],
            "needs_background": "light"
          }
        }
      ]
    },
    {
      "cell_type": "code",
      "metadata": {
        "id": "mJqQi2z8B-yM",
        "colab_type": "code",
        "colab": {}
      },
      "source": [
        ""
      ],
      "execution_count": null,
      "outputs": []
    }
  ]
}